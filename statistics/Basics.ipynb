{
 "cells": [
  {
   "cell_type": "markdown",
   "metadata": {},
   "source": [
    "## $$Stat \\ Cheat \\ Sheet \\ - \\ Basics$$"
   ]
  },
  {
   "cell_type": "markdown",
   "metadata": {},
   "source": [
    "#### Sample Mean\n",
    "$$\\overline x = \\frac{x_1 + x_2 + ... + x_n}{n} = \\frac{\\sum_{i = 1}^n x_i}{n}$$"
   ]
  },
  {
   "cell_type": "markdown",
   "metadata": {},
   "source": [
    "#### Deviation from average\n",
    "$$d_i = x_i - \\overline x$$\n",
    "$$\\sum_{i=1}^n d_i = \\sum_{i=1}^n (x_i - \\overline x) = 0$$\n",
    "$$\\sum_{i=1}^n (x_i - \\overline x)^2 = \\sum_{i=1}^n (x_i)^2 - n(\\overline x)^2$$\n",
    "$$\\sum_{i=1}^n (x_i - \\overline x)(y_i - \\overline y) = \\sum_{i=1}^n (x_i - \\overline x)y_i = \\sum_{i=1}^n x_i(y_i - \\overline y) = \\sum_{i=1}^n (x_iy_i - n(\\overline x \\overline y)$$"
   ]
  },
  {
   "cell_type": "markdown",
   "metadata": {},
   "source": [
    "#### Sample median \n",
    "Obtained by first ordering the n observations from smallest to largest (with any repeated values included so that every sample observation appears in the ordered list). Then,\n",
    "$$\\tilde x = \\begin{cases}\n",
    "\\text{The single middle value if n is odd} = \\biggl(\\frac{n + 1}{2}\\biggl)^{th} \\text{ordered value} \\\\\n",
    "\\text{The average of the two middle values if n is even} = {average of } \\biggl(\\frac{n}{2}\\biggl)^{th} and \\biggl(\\frac{n}{2} + 1 \\biggl)^{th} \\text{ordered values}\n",
    "\\end{cases} $$"
   ]
  },
  {
   "cell_type": "markdown",
   "metadata": {},
   "source": [
    "#### Sample Variance\n",
    "$$s^2 = \\frac{\\sum (x_i - \\overline x)^2}{n - 1} = \\frac{S_{xx}}{n - 1}$$\n",
    "If $y_1 = x_1 + c, y_2 = x_2 + c, ..., y_n = x_n + c, \\ then \\ s_y^2 = s_x^2$ <BR>\n",
    "If $y_1 = cx_1, y_2 = cx_2, ..., y_n = cx_n, \\ then \\ s_y^2 = c^2s_x^2$"
   ]
  },
  {
   "cell_type": "markdown",
   "metadata": {},
   "source": [
    "#### Sample Standard Deviation\n",
    "$$s = \\sqrt {s^2}$$\n",
    "If $y_1 = cx_1, y_2 = cx_2, ..., y_n = cx_n, \\ then \\ s_y = |c|s_x$ <BR>"
   ]
  },
  {
   "cell_type": "markdown",
   "metadata": {},
   "source": [
    "#### Sample Covariance\n",
    "$$cov(x,y) = \\frac{\\sum_i(x_i - \\overline x)(y_i - \\overline y)}{n - 1}$$"
   ]
  },
  {
   "cell_type": "markdown",
   "metadata": {},
   "source": [
    "#### Sample Correlation\n",
    "$$r = \\frac{cov(x,y)}{s_xs_y}$$\n",
    "Correlation \n",
    "* varies between -1 and 1\n",
    "* above .5 indicates strong relationship\n",
    "* doesn't change whether we add/multiply constants to/with the x or y variables"
   ]
  },
  {
   "cell_type": "markdown",
   "metadata": {},
   "source": [
    "#### Variance Covariance Matrix\n",
    "$$vcov(x,y) = \\begin{bmatrix}\n",
    "var(x) & cov(x,y) \\\\\n",
    "cov(x,y) & var(y)\n",
    "\\end{bmatrix}$$\n",
    "\n",
    "$$var(X) = \\begin{bmatrix}\n",
    "var(X_1) & cov(X_1, X_2) & \\dots & cov(X_1, X_n) \\\\\n",
    "cov(X_2, X_1) & var(X_2) & \\dots & cov(X_2, X_n) \\\\\n",
    "\\vdots & \\ & \\ddots \\\\\n",
    "cov(X_n, X_1) & cov(X_n, X_2) & \\dots & var(X_n) \\\\\n",
    "\\end{bmatrix}$$"
   ]
  },
  {
   "cell_type": "markdown",
   "metadata": {},
   "source": [
    "#### Linear Relations\n",
    "$$y=\\beta_0 + \\beta_1 x$$\n",
    "\n",
    "- A point change in $x$ will always result in the same change in $y$ regardless of the initial value of $x$\n",
    "- Marginal effect of $x$ on $y$ is constant\n",
    "\n",
    "**Average Propensity**\n",
    "$$\\frac{y}{x} = \\frac{\\beta_0}{x} + \\beta_1$$\n",
    "where $\\beta_1$ is the **marginal propensity**. Average Propensity is always greater than marginal propensity and gets closer to it as x increases."
   ]
  },
  {
   "cell_type": "markdown",
   "metadata": {},
   "source": [
    "#### Non Linear Relations\n",
    "$$y=\\beta_0 + \\beta_1 x + \\beta_2 x^2$$\n",
    "- Change in $y$ for a given change in $x$ depends on the starting value of $x$.\n",
    "\n",
    "Maximum of the function occurs at\n",
    "$$x = \\frac{\\beta_1}{-2\\beta_2}$$\n",
    "\n",
    "Slope\n",
    "$$=\\frac{\\Delta y}{\\Delta x} \\approx \\beta_1 + 2\\beta_2 x$$"
   ]
  },
  {
   "cell_type": "markdown",
   "metadata": {},
   "source": [
    "#### Logarithmic and Exponential Functions\n",
    "\n",
    "For small changes in x\n",
    "$$\\Delta log(x) = log(x_1) - log(x_0) \\approx \\frac{x_1 - x_0}{x_0} = \\frac{\\Delta x}{x_0}$$\n",
    "$$100 \\cdot \\Delta log(x) \\approx \\text{%} \\Delta x$$\n",
    "\n",
    "$$log[exp(x)] = x$$\n",
    "$$log(y) = \\beta_0 + \\beta_1 x \\iff y = exp(\\beta_0 + \\beta_1 x)$$"
   ]
  },
  {
   "cell_type": "markdown",
   "metadata": {},
   "source": [
    "#### Elasticity\n",
    "\n",
    "Elasticity of $y$ with respect to $x$ is the percentage change in $y$ when $x$ increases by 1%.\n",
    "\n",
    "$$\\frac{\\Delta y}{\\Delta x} \\cdot \\frac{x}{y} = \\frac{\\text{%} \\Delta y}{\\text{%} \\Delta x} = \\frac{\\Delta log(y)}{\\Delta log(x)}$$\n",
    "$$= \\beta_1 \\cdot \\frac{x}{y} =  \\beta_1 \\cdot \\frac{x}{\\beta_0 + \\beta_1 x}$$\n",
    "\n",
    "A **constant elasticity model** is approximated by the equation \n",
    "$$log(y) = \\beta_0 + \\beta_1log(x)$$ \n",
    "where $\\beta_1$ is the elasticity of $y$ with respect to $x$ (assuming that $x, y \\gt 0$)\n",
    "\n",
    "**Semi-elasticity** of y with respect to x is the percentage change in y when x increases by one unit.\n",
    "$$\\frac{\\text{%} \\Delta y}{\\Delta x} = 100 \\beta_1$$"
   ]
  },
  {
   "cell_type": "markdown",
   "metadata": {},
   "source": [
    "#### Normalization Vs Standardization\n",
    "\n",
    "**Normalization** - To scale a variable to have a values between 0 and 1. This is usually called *feature scaling*. One possible formula to achieve this is:\n",
    "$$x_{new} = \\frac{x - x_{min}}{x_{max} - x_{min}}$$\n",
    "\n",
    "**Standardization** -  To transform data using *z-score* or *t-score* (usually to have a mean of zero and a standard deviation of 1)\n",
    "$$z_i = \\frac{x_i - \\overline x}{s}$$\n",
    "\n",
    "**Normalizing vectors (in linear algebra) to a norm of one** - Normalization in this sense means to transform a vector so that it has a length of one."
   ]
  }
 ],
 "metadata": {
  "kernelspec": {
   "display_name": "R",
   "language": "R",
   "name": "ir"
  },
  "language_info": {
   "codemirror_mode": "r",
   "file_extension": ".r",
   "mimetype": "text/x-r-source",
   "name": "R",
   "pygments_lexer": "r",
   "version": "3.5.1"
  }
 },
 "nbformat": 4,
 "nbformat_minor": 2
}
