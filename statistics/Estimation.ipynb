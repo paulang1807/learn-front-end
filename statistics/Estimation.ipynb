{
 "cells": [
  {
   "cell_type": "markdown",
   "metadata": {},
   "source": [
    "## $$Statistics \\ Cheat \\ Sheet \\ - \\ Estimation$$"
   ]
  },
  {
   "cell_type": "markdown",
   "metadata": {},
   "source": [
    "**Mean Square Error**, $MSE = E[(\\hat \\theta - \\theta)^2]$\n",
    "\n",
    "**Bias of $\\hat \\theta$**, $Bias(\\hat \\theta) = E(\\hat \\theta) - \\theta$\n",
    "\n",
    "* When $X$ is a binomial rv with parameters $n$ and $p$, the sample proportion $\\hat p =  X/n$ is an unbiased estimator of $p$.\n",
    "* For a uniformly distributed rv, the mid point of the interval of positive density is the expected value, i.e. $E(X_i) = \\theta /2 \\implies E(\\overline X) = \\theta/2 \\implies E(2 \\overline X) = \\theta$. Thus $E(2 \\overline X)$ is unbiased for $\\theta$.\n",
    "\n",
    "**Probility Limit** $plim_{n \\to \\infty}\\hat \\theta = \\theta$, i.e. $P(|\\hat \\theta - \\theta| \\gt \\epsilon) \\to 0 \\ as \\ n \\to \\infty$"
   ]
  },
  {
   "cell_type": "markdown",
   "metadata": {},
   "source": [
    "**MVUE**\n",
    "* Normal Distribution: $\\hat \\mu = \\overline X$"
   ]
  },
  {
   "cell_type": "markdown",
   "metadata": {},
   "source": [
    "**Sampling Distribution**\n",
    "$$  \\text{Sampling Distribution of $f(X_1,\\ldots,X_n)$ = Characteristics of $X$ + Properties of $f(\\cdot)$ + Sampling Method for $\\{X_i\\}_{i=1}^n$  } $$"
   ]
  },
  {
   "cell_type": "markdown",
   "metadata": {},
   "source": [
    "**Guidelines**\n",
    "* If $E(\\hat{\\theta}_1 - \\theta) = 0 $ and  $E(\\hat{\\theta}_2 - \\theta) > 0 $ then the unbiased estimator $\\theta_1$ is preferred to $\\theta_2$ \n",
    "\n",
    "* If $E(\\hat{\\theta}_1 - \\theta) = E(\\hat{\\theta}_2 - \\theta) = 0 $ then the estimator with the smallest variance is preferred. "
   ]
  },
  {
   "cell_type": "markdown",
   "metadata": {},
   "source": [
    "#### Method of Moments\n",
    "**kth population moment** or **kth moment of distribution** $f(x) = E(X^k)$\n",
    "\n",
    "**kth sample moment** is $(1/n)\\sum_{i=1}^nX_i^k$\n",
    "$$ \\hat{E}(X^k)= n^{-1}\\sum_{i=1}^nX_i^k $$ \n",
    "$$ \\begin{aligned}  \\rho(X,Y) &= \\frac{E\\left[(X-E(X))(Y-E(Y))\\right]}{ \\sqrt{V(X)} \\sqrt{V(Y)} } \\\\ \n",
    "\\hat{\\rho}(X,Y) &= \\frac{n^{-1}\\sum_{i=1}^n(X_i-\\overline{X}_n)(Y_i - \\overline{Y}_n)}{[(n-1)^{-1}\\sum_{i=1}^n(X_i -\\overline{X}_n)^2]^{1/2}[(n-1)^{-1}\\sum_{i=1}^n(Y_i -\\overline{Y}_n)^2]^{1/2}} \\end{aligned} $$\n",
    "\n",
    "* Moment estimator of $\\lambda$ for an exponential distribution, $\\hat \\lambda = 1/\\overline X$\n",
    "* Estimators of parameters $\\alpha$ and $\\beta$ for a gamma distribution\n",
    "$$\\hat \\alpha = \\frac{\\overline X^2}{(1/n)\\sum X_i^2 - \\overline X^2}, \\hat \\beta = \\frac{(1/n)\\sum X_i^2 - \\overline X^2}{\\overline X}$$\n",
    "* Estimators of parameters $p$ and $r$ for a negative binomial distribution\n",
    "$$\\hat p = \\frac{\\overline X}{(1/n)\\sum X_i^2 - \\overline X^2}, \\hat r = \\frac{\\overline X}{(1/n)\\sum X_i^2 - \\overline X^2 - \\overline X}$$"
   ]
  },
  {
   "cell_type": "markdown",
   "metadata": {},
   "source": [
    "#### Maximum Likelihood Estimator\n",
    "If $l(\\theta) = f(x_1,...,x_n;\\theta)$ is the likelihood function, then maximum likelihood estimator is the maximum value of the function\n",
    "$$\\hat \\theta _{ML} = argmax[l(\\theta)] = argmax[ln\\{l(\\theta)\\}]$$ \n",
    "For finding the MLE of p(x), solve for\n",
    "$$\\frac{d}{dx}ln[p(x)] = 0$$\n",
    "\n",
    "MLE estimation makes much stronger assumptions in order to estimate $\\theta$ the MOM because you have to \"know\" the distribution of $X_i$ up to the parameter $\\theta$ in order to have a good estimate i.e. you have to know $f(\\cdot | \\theta)$ in order to maximize it.\n",
    "\n",
    "\n",
    "* Estimator of $\\lambda$ for exponential distribution, $\\hat \\lambda = 1/\\overline X$. <BR>\n",
    "    This is not unbiased as $E(1/\\overline X) \\neq 1/E(\\overline X)$\n",
    "* Estimators of $\\mu$ and $\\sigma$ for a normal distribution\n",
    "    $$\\hat \\mu = \\overline X, \\ \\hat \\sigma^2 = \\frac{\\sum (X_i - \\overline X)^2}{n}$$\n",
    "* Estimator of $\\lambda$ for a two dimensional region $R$ with area $a(R)$ with a Poisson distribution with parameter $\\lambda a(R)$, where $\\lambda$ is the expected number of events per unit area\n",
    "$$ \\hat \\lambda = \\frac{\\sum X_i}{\\sum a(R_i)}$$\n",
    "\n",
    "In situations where calculus cannot be applied, the following can be tried:\n",
    "* Estimator for a uniform distribution $U[a,b]$, $\\hat b = max(X_i)$ and $\\hat a = min(X_i)$ - This is obtained by maximizing the pdf $(1/(b-a))^n$\n",
    "* Estimator for a hypergeometric distribution, $\\hat N = [Mn/x]$, the largest integer less than or equal to the calculated value. Here the estimator is derived by taking the ratio of the N to the N-1 value."
   ]
  },
  {
   "cell_type": "markdown",
   "metadata": {},
   "source": [
    "#### Confidence Intervals\n",
    "* For a normal distribution with mean $\\mu$ and standard deviation $\\sigma$, the **95% confidence interval (CI) for** $\\mu$ is given by\n",
    "$$\\overline x - 1.96 \\cdot \\frac{\\sigma}{\\sqrt n} \\lt \\mu \\lt \\overline x + 1.96 \\cdot \\frac{\\sigma}{\\sqrt n}$$\n",
    "* A **100(1 - $\\alpha$)% CI** for the $\\mu$ of a normal distribution with standard deviation $\\sigma$ is\n",
    "$$\\overline x - z_{\\alpha/2} \\cdot \\frac{\\sigma}{\\sqrt n} \\lt \\mu \\lt \\overline x + z_{\\alpha/2} \\cdot \\frac{\\sigma}{\\sqrt n}$$\n",
    "where $z_{\\alpha/2}$ is the right critical value $P(Z \\gt \\alpha/2) = \\alpha/2$ and the half-width $z_{\\alpha/2} \\cdot \\frac{\\sigma}{\\sqrt n}$ is also called the **bound on the error of estimation, B** <BR>\n",
    "This can also be expressed in words as <BR>\n",
    "    point estimate of $\\mu \\pm (z$ critical value) (standard error of the mean)\n",
    "* A **Large Sample (n $\\gt$ 40) CI for $\\mu$** with CI level approximately $100(1 - \\alpha)$% is given by \n",
    "    $$\\overline x \\pm z_{\\alpha/2} \\cdot \\frac{\\sigma}{\\sqrt n}$$\n",
    "    \n",
    "**Sample Size**\n",
    "$$n=\\biggl(2z_{\\alpha/2} \\cdot \\frac{\\sigma}{w}\\biggl)^2$$\n",
    "where $w$ is the desired width and \n",
    "$$w = 2z_{\\alpha/2} \\sigma/\\sqrt n$$\n",
    "\n",
    "* To estimate $\\mu$ within an amount $B$ with $100(1 - \\alpha)$% confidence, sample size needed is\n",
    "$$n=\\biggl(z_{\\alpha/2} \\cdot \\frac{\\sigma}{B}\\biggl)^2$$\n",
    "* The **100(1 - $\\alpha$)% CI** can be rewritten as\n",
    "$$- z_{\\alpha/2} \\lt \\frac{\\overline x - \\mu}{\\frac{\\sigma}{\\sqrt n}} \\lt z_{\\alpha/2}$$\n",
    "If $h(X_1,...,X_n;\\mu) = (\\overline X - \\mu)/(\\sigma/\\sqrt n)$, using parameter $\\theta = \\mu$, for any $\\alpha$ between 0 and 1, constancts $a$ and $b$ satisfies\n",
    "$$P(a \\lt h(X_1,...,X_n;\\theta) \\lt b) = 1 - \\alpha$$\n",
    "Isolating $\\theta$, the probability statement can be written as\n",
    "$$P(l(X_1,...,X_n) \\lt \\theta \\lt u(X_1,...,X_n)) = 1 - \\alpha$$\n",
    "where $l(x_1,...,x_n)$ and $u(x_1,...,x_n)$ are the lower and the upper confidence limits.\n",
    "\n",
    "* The probability statement for **95% CI** for $\\lambda$ of an **exponential distribution** is given by\n",
    "$$P(l(X_1,...,X_n) \\lt 2 \\lambda \\sum X_i \\lt u(X_1,...,X_n)) = .95$$\n",
    "where RV $h(X_1,...,X_n;\\lambda) = 2 \\lambda \\sum X_i$ has a **chi-squared** distribution. Here the upper and lowe limtis can be found using the chi-squared distribution table.\n",
    "* The probability statement for **95% CI** for $\\mu$ of an **exponential distribution** is given by\n",
    "$$P(\\frac{2 \\sum X_i}{u(X_1,...,X_n)} \\lt \\frac{1}{\\lambda} \\lt \\frac{2 \\sum X_i}{l(X_1,...,X_n)}) = .95$$"
   ]
  },
  {
   "cell_type": "markdown",
   "metadata": {},
   "source": [
    "#### T Distribution RV\n",
    "If the distribution is not known, we can still use the Central Limit theorem for large values of n to assume a normal distribution. Then the **100(1 - $\\alpha$)% CI** can be written as\n",
    "$$P\\biggl(- z_{\\alpha/2} \\lt \\frac{\\overline x - \\mu}{\\frac{\\sigma}{\\sqrt n}} \\lt z_{\\alpha/2}\\biggl) \\approx 1 - \\alpha$$\n",
    "\n",
    "When the standard deviation is not known, we can express the t distributed standardized variable as\n",
    "$$T = \\frac{\\overline X - \\mu}{S/\\sqrt n}$$\n",
    "has $n - 1$ degrees of freedom $(df)$ and \n",
    "$$P(-t_{\\alpha/2, n - 1} \\lt T \\lt t_{\\alpha/2, n - 1}) = 1 - \\alpha$$\n",
    "The **100(1 - $\\alpha$)% CI for $\\mu$** is\n",
    "$$\\overline x \\pm t_{\\alpha/2, n - 1} \\cdot s/\\sqrt n$$\n",
    "An **upper confidence bound** is $\\overline x + t_{\\alpha, n - 1} \\cdot s/\\sqrt n$ and **lower confidence bound** is $\\overline x - t_{\\alpha, n - 1} \\cdot s/\\sqrt n$\n",
    "\n",
    "++ Use R function **qt** to find t critical values"
   ]
  },
  {
   "cell_type": "markdown",
   "metadata": {},
   "source": [
    "#### Tolerance Interval\n",
    "A tolerance interval for capturing at least $k%$ of the values in a normal population distribution with a confidence level 95% has the form\n",
    "$$\\overline x \\pm \\text{(tolerance critical value)} \\cdot s$$"
   ]
  },
  {
   "cell_type": "markdown",
   "metadata": {},
   "source": [
    "#### Fisher's Transform\n",
    "$$r' = (0.5)ln|(1 + r) / (1 - r)|$$\n",
    "where $r$ is the Pearson correlation\n",
    "\n",
    "**Standard Error**\n",
    "$$SE = \\frac{1}{\\sqrt{n - 3}}$$\n",
    "\n",
    "**95% CI**\n",
    "$$r' \\pm 1.96 \\times SE$$"
   ]
  }
 ],
 "metadata": {
  "kernelspec": {
   "display_name": "R",
   "language": "R",
   "name": "ir"
  },
  "language_info": {
   "codemirror_mode": "r",
   "file_extension": ".r",
   "mimetype": "text/x-r-source",
   "name": "R",
   "pygments_lexer": "r",
   "version": "3.4.3"
  }
 },
 "nbformat": 4,
 "nbformat_minor": 2
}
