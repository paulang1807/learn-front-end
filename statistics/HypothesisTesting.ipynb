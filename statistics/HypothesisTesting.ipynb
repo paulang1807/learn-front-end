{
 "cells": [
  {
   "cell_type": "markdown",
   "metadata": {},
   "source": [
    "## $$Statistics \\ Cheat \\ Sheet \\ - \\ Hypothesis Testing$$"
   ]
  },
  {
   "cell_type": "markdown",
   "metadata": {},
   "source": [
    "#### Null Hypothesis: P(D|H)\n",
    "$$H_0: \\mu = \\mu_0$$\n",
    "#### p Value\n",
    "##### One Tailed Tests\n",
    "* **Upper Tailed Test** - If $H_A: \\mu \\gt \\mu_0$, P-value = $P(Z \\geq z$ when $H_0$ is true) $\\implies$ the P-value is just the area under the standard normal curve to the right of $z = 1-\\phi(z)$.\n",
    "* **Lower Tailed Test** - If $H_A: \\mu \\lt \\mu_0$, P-value = $P(Z \\leq z$ when $H_0$ is true) $\\implies$ the P-value is just the area under the standard normal curve to the left of $z = \\phi(z)$\n",
    "\n",
    "##### Two Tailed Test\n",
    "If $H_A: \\mu \\neq \\mu_0$, P-value = $P(Z \\geq z$ or $Z \\leq z$ when $H_0$ is true) $\\implies$ the P-value is the area under the standard normal curve to the left of $z = \\phi(z)$ + the area under the standard normal curve to the right of $z = 1-\\phi(z)$\n",
    "\n",
    "**Standard Distribution**\n",
    "$$2(1- \\phi(z))$$\n",
    "for a two tailed test and\n",
    "$$\\phi(z) \\ or \\ (1 - \\phi)z))$$\n",
    "for a one tailed test where $z = \\frac{\\overline X - \\mu_0}{\\sigma/\\sqrt n}$ and $\\mu_0$ is the mean of the null hypothesis\n",
    "\n",
    "#### z Test\n",
    "Use for unknown $\\mu$ and known variance\n",
    "$$z = \\frac{\\overline x - \\mu_0}{\\sigma/\\sqrt n} = \\frac{observed - expected}{Standard Error,SE}$$\n",
    "\n",
    "**p-Values**\n",
    "* Two sided: $p=P(|Z| \\gt z) = 2 * (1 -pnorm(abs(z),0,1))$\n",
    "* One sided greater : $p=P(Z \\gt z) = 1 -pnorm(z,0,1)$\n",
    "* One sided less: $p=P(Z \\lt z) = pnorm(z,0,1)$\n",
    "\n",
    "Because a p-value is a probability, its value is always between zero and one.\n",
    "\n",
    "#### t-test\n",
    "Use when neither $\\mu$ nor $\\sigma$ is known\n",
    "**p-Values**\n",
    "* Two sided: $p=P(|T| \\gt t) = 2 * (1 -pt(abs(t),n-1))$\n",
    "* One sided greater : $p=P(T \\gt t) = 1 -pt(t,n-1)$\n",
    "* One sided less: $p=P(T \\lt t) = pt(t,n-1)$\n",
    "\n",
    "$$P(T \\lt t) = P(T \\gt |t|)$$ because t distribution is symmetric about zero."
   ]
  },
  {
   "cell_type": "markdown",
   "metadata": {},
   "source": [
    "#### Type 1 Error Rates\n",
    "$$\\alpha=P(rejecting \\ H_0|H_0) = 0.05$$\n",
    "$$=P(p-value \\leq \\text{significance level} | H_0)$$\n",
    "\n",
    "#### Type 2 Error Rates\n",
    "For $H_A: \\mu \\gt \\mu_0$\n",
    "$$\\beta(\\mu') = \\phi \\biggl( z_{\\alpha} + \\frac{\\mu_0 - \\mu'}{\\sigma / \\sqrt n} \\biggl) $$\n",
    "where $\\mu'$ denotes a particular value of $\\mu$ that exceeds the null value $\\mu_0$ and $\\phi(z)$ is the standard normal cdf\n",
    "\n",
    "For $H_A: \\mu \\lt \\mu_0$\n",
    "$$\\beta(\\mu') = 1 - \\phi \\biggl( -z_{\\alpha} + \\frac{\\mu_0 - \\mu'}{\\sigma / \\sqrt n} \\biggl) $$\n",
    "\n",
    "For $H_A: \\mu \\neq \\mu_0$\n",
    "$$\\beta(\\mu') = \\phi \\biggl( z_{\\alpha/2} + \\frac{\\mu_0 - \\mu'}{\\sigma / \\sqrt n} \\biggl) - \\phi \\biggl(- z_{\\alpha/2} + \\frac{\\mu_0 - \\mu'}{\\sigma / \\sqrt n} \\biggl)$$\n",
    "\n",
    "**Power** = $ 1 - \\beta$"
   ]
  },
  {
   "cell_type": "markdown",
   "metadata": {},
   "source": [
    "#### Sample Size\n",
    "For $H_A: \\mu \\gt \\mu_0$\n",
    "$$\\phi \\biggl(z_\\alpha + \\frac{\\mu_0 - \\mu'}{\\sigma / \\sqrt n} \\biggl) = \\beta$$\n",
    "$$\\implies -z_\\beta = z_\\alpha + \\frac{\\mu_0 - \\mu'}{\\sigma / \\sqrt n}$$\n",
    "is the z critical value that captures the lower tail area $\\beta$\n",
    "$$\\implies n=\\biggl[\\frac{\\sigma(z_\\alpha + z_\\beta)}{\\mu_0 - \\mu'} \\biggl]^2$$\n",
    "is the sample size for a upper or lower test\n",
    "\n",
    "For a two tailed test, sample size $n$ can be approximated as\n",
    "$$\\biggl[\\frac{\\sigma(z_{\\alpha/2} + z_\\beta)}{\\mu_0 - \\mu'} \\biggl]^2$$"
   ]
  },
  {
   "cell_type": "markdown",
   "metadata": {},
   "source": [
    "Let $(\\hat \\theta_L, \\hat \\theta_U)$ be a confidence interval for $\\theta$ with confidence level $100(1 —\\alpha)$%. Then a test of $H_0: \\theta = \\theta_0$ versus $H_A: \\theta \\neq \\theta_0$ with significance level $\\alpha$ rejects the null hypothesis if the null value $\\theta_0$ is not included in the $CI$ and does not reject $H_0$ if the null value does lie in the $CI$."
   ]
  },
  {
   "cell_type": "markdown",
   "metadata": {},
   "source": [
    "#### Two Sample z-Tests\n",
    "\n",
    "Unbiased Estimator of $\\mu_1 - \\mu_2 = \\overline X - \\overline Y$\n",
    "\n",
    "**Standard Deviation**\n",
    "$$\\sigma_{\\overline X - \\overline Y} = \\sqrt{\\frac{\\sigma_1^2}{m} + \\frac{\\sigma_2^2}{n}}$$\n",
    "\n",
    "**Test Statistic**\n",
    "$$\\frac{\\hat \\theta - \\Delta_0}{\\sigma_{\\hat \\theta}}$$\n",
    "where $\\hat \\theta = \\overline X - \\overline Y$, $\\Delta_0$ is the $H_0 = \\mu_1 - \\mu_2$ and $\\sigma_{\\hat \\theta}$ is the standard deviation shown above. In this case $H_a$ can be $\\mu_1 - \\mu_2 \\gt \\Delta_0, \\mu_1 - \\mu_2 \\lt \\Delta_0$ or $\\mu_1 - \\mu_2 \\neq \\Delta_0$\n",
    "\n",
    "For $\\mu_1 - \\mu_2 \\gt \\Delta_0, H_0$ should be rejected in favor of $H_a$ if $z$ is greater than or equal to an appropriately chosen critical value.\n",
    "\n",
    "**Rejection Region**\n",
    "$$z \\geq z_\\alpha \\ \\text{(upper tailed)}$$\n",
    "$$z \\leq -z_\\alpha \\ \\text{(lower tailed)}$$\n",
    "$$z \\geq z_{\\alpha/2} \\ or \\ z \\leq -z_{\\alpha/2} \\ \\text{(two tailed)}$$\n",
    "\n",
    "**Sample Size**\n",
    "When the two sample sizes are equal\n",
    "$$m = n = \\frac{(\\sigma_1^2 + \\sigma_2^2)(z_\\alpha + z_\\beta)^2}{(\\Delta' - \\Delta_0)^2} = \\frac{(\\sigma_1^2 + \\sigma_2^2)(z_\\alpha + z_\\beta)^2}{w^2}$$\n",
    "where w is the width of the interval\n",
    "\n",
    "The **100(1 - $\\alpha$)% CI for $\\mu_1 - \\mu_2$** provided $m$ and $n$ are both large is\n",
    "$$\\overline x - \\overline y \\pm z_{\\alpha/2} \\sqrt {\\frac{s_1^2}{m} + \\frac{s_2^2}{n}}$$"
   ]
  },
  {
   "cell_type": "markdown",
   "metadata": {},
   "source": [
    "#### Two Sample t-Tests\n",
    "$$T = \\frac{\\overline X - \\overline Y - (\\mu_1 - \\mu_2)}{\\sqrt{\\frac{S_1^2}{m} + \\frac{S_2^2}{n}}}$$\n",
    "\n",
    "**Degree of Freedom**\n",
    "$$\\nu = \\frac{\\biggl(\\frac{s_1^2}{m} + \\frac{s_2^2}{n} \\biggl)^2}{\\frac{(s_1^2/m)^2}{m - 1} + \\frac{(s_2^2 /n)^2}{n - 1}}$$\n",
    "$$= \\frac{[(se_1)^2 + (se_2)^2]^2}{\\frac{(se_1)^4}{m - 1} + \\frac{(se_2)^4}{n - 1}}$$\n",
    "where $se_1 = \\frac{s_1}{\\sqrt m}, se_2 = \\frac{s_2}{\\sqrt n}$\n",
    "\n",
    "The **100(1 - $\\alpha$)% CI for $\\mu_1 - \\mu_2$** provided $m$ and $n$ are both large is\n",
    "$$\\overline x - \\overline y \\pm t_{\\alpha/2,\\nu} \\sqrt {\\frac{s_1^2}{m} + \\frac{s_2^2}{n}}$$\n",
    "\n",
    "++Use power calculator in http://www.stat.ucla.edu to calculate power of two sample t tests"
   ]
  },
  {
   "cell_type": "markdown",
   "metadata": {},
   "source": [
    "#### Pooled procedures\n",
    "\n",
    "If the variances for the two samples are the same then\n",
    "$$\\sigma_{\\overline X - \\overline Y} = \\sqrt{\\sigma^2 \\biggl(\\frac{1}{m} + \\frac{1}{n} \\biggl)}$$\n",
    "\n",
    "$$Pooled \\ (Combined) \\ Estimator \\ of  \\ \\sigma^2, \\  S_p^2 = \\frac{(n - 1)S_1^2 + (m - 1)S_2^2}{n + m - 2}$$\n",
    "\n",
    "* Results in smaller $\\beta$ for the same $\\alpha$\n",
    "* Can be used if the null hypothesis of a preliminary test of $H_0: \\sigma_1^2 = \\sigma_2^2$ is not rejected\n",
    "\n",
    "$$t=\\frac{M_1 - M_2}{S_{DM}}$$\n",
    "$$S_{DM} = \\sqrt{\\biggl(\\frac{(N_1 - 1)S_1^2 + (N_2 - 1)S_2^2}{N_1 + N_2 - 2}\\biggl)\\biggl(\\frac{1}{N_1} + \\frac{1}{N_2}\\biggl)}$$"
   ]
  },
  {
   "cell_type": "markdown",
   "metadata": {},
   "source": [
    "#### Degrees of Freedom\n",
    "**Independent Sample t-Test**\n",
    "$$n_1 + n_2 - 2$$\n",
    "\n",
    "**One Sample t-Test**\n",
    "$$n - 1$$"
   ]
  },
  {
   "cell_type": "markdown",
   "metadata": {},
   "source": [
    "#### Standardized Effect Size Measures\n",
    "**Effect Size - Cohen's d**\n",
    "$$d = \\frac{m_1 - m_2}{S_{pooled}}$$\n",
    "$$S_{pooled} = \\sqrt{\\biggl(\\frac{(n_1 - 1)s_1^2 + (n_2 - 1)s_2^2}{n_1 + n_2 - 2}\\biggl)}$$\n",
    "\n",
    "* $Large: \\ \\gt 0.8; \\ Medium: \\ Around \\ 0.5; \\ Small: \\ \\lt 0.2$\n",
    "\n",
    "**Effect Size Correlation (r)**\n",
    "$$r = \\frac{t}{\\sqrt{t^2 + df}}$$\n",
    "\n",
    "* $Large: \\ 0.50; \\ Medium: \\ 0.30; \\ Small: \\ 0.10$"
   ]
  },
  {
   "cell_type": "markdown",
   "metadata": {},
   "source": [
    "#### Dependent Sample t-Test\n",
    "$$t = \\frac{\\overline X_D - \\mu_0}{S_D/\\sqrt n}$$\n",
    "where $\\overline X_D$ is the difference in the sample means and $\\mu_0$ is the difference in the population means\n",
    "\n",
    "Assuming the population difference to be zero,\n",
    "$$\\frac{\\text{Mean of group A at time 1 - Mean of group A at time 2}}{\\text{Standard error of the differences}}$$\n",
    "\n",
    "**Paired t CI for $\\mu_d$**\n",
    "$$\\overline x_D \\pm t_{\\alpha/2, n-1} \\cdot S_D/\\sqrt n$$ for two tailed test\n",
    "$$\\overline x_D + t_{\\alpha, n-1} \\cdot S_D/\\sqrt n$$ for upper tailed test\n",
    "$$\\overline x_D - t_{\\alpha, n-1} \\cdot S_D/\\sqrt n$$ for lower tailed test"
   ]
  },
  {
   "cell_type": "markdown",
   "metadata": {},
   "source": [
    "#### Paired vs Independent (Two Sample) t test\n",
    "$$V(\\overline X - \\overline Y) = \\frac{\\sigma_1^2 + \\sigma_2^2 - 2 \\rho \\sigma_1 \\sigma_2}{n}$$\n",
    "* For two sample t tests, the samples are assumed to be independent and hence will have a smaller variance and correspondingly smaller standard deviation compared to paired t tests.\n",
    "* Often two-sample t will be much closer to zero than paired t, considerably understating the significance of the data\n",
    "* The paired t CI will usually be narrower than the (incorrect) two-sample t CI. This is because there is typically much less variability in the differences than in the x and y values"
   ]
  },
  {
   "cell_type": "markdown",
   "metadata": {},
   "source": [
    "#### John Ioannidis's Model\n",
    "If $c$ is the number of possible relationships, $t$ is the number of true relationships, and $R$=number of true relationships/number of false relationships\n",
    "\n",
    "**Number of Supported True Relationships**\n",
    "$$\\frac{(1 - \\beta)cR}{R + 1}$$\n",
    "\n",
    "**Number of Supported False Relationships**\n",
    "$$\\frac{\\alpha c}{R + 1}$$\n",
    "\n",
    "**Total Number of Significant Results**\n",
    "$$\\frac{[(1 - \\beta)R + \\alpha]c}{R + 1}$$\n",
    "\n",
    "**Positive Predictive Value**\n",
    "$$PPV=\\frac{(1 - \\beta)R}{(1 - \\beta)R + \\alpha}$$"
   ]
  },
  {
   "cell_type": "markdown",
   "metadata": {},
   "source": [
    "#### Wilcoxon Rank-Sum Test and Wilcoxon Signed-Rank Test\n",
    "**Effect Size Correlation**\n",
    "$$ r = \\frac{Z}{\\sqrt N}$$\n",
    "\n",
    "* $Large: \\ 0.50; \\ Medium: \\ 0.30; \\ Small: \\ 0.10$"
   ]
  }
 ],
 "metadata": {
  "kernelspec": {
   "display_name": "R",
   "language": "R",
   "name": "ir"
  },
  "language_info": {
   "codemirror_mode": "r",
   "file_extension": ".r",
   "mimetype": "text/x-r-source",
   "name": "R",
   "pygments_lexer": "r",
   "version": "3.4.3"
  }
 },
 "nbformat": 4,
 "nbformat_minor": 2
}
